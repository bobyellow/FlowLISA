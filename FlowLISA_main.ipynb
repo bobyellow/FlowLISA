{
  "cells": [
    {
      "cell_type": "code",
      "execution_count": null,
      "id": "27998f93",
      "metadata": {
        "id": "27998f93"
      },
      "outputs": [],
      "source": [
        "import core.shapefile\n",
        "import pandas as pd\n",
        "from collections import defaultdict\n",
        "from core.FlowLISA import execFLOWLISA\n"
      ]
    },
    {
      "cell_type": "code",
      "execution_count": null,
      "id": "6f36ed9e",
      "metadata": {
        "id": "6f36ed9e"
      },
      "outputs": [],
      "source": [
        "# Import input flow data from .txt files\n",
        "flowdf1 = pd.read_csv('input/Flow37xLL.txt', sep='\\s+')\n",
        "F_dt1 = dict(zip(zip(flowdf1['O'], flowdf1['D']), flowdf1['Flow']))\n"
      ]
    },
    {
      "cell_type": "code",
      "execution_count": null,
      "id": "3dd34768",
      "metadata": {
        "id": "3dd34768"
      },
      "outputs": [],
      "source": [
        "# The input flow data should not contain zero-value flow (OD pair)\n",
        "# The input flow data are stored as dictionary format, (O,D) tuple as key, flow values as lists\n"
      ]
    },
    {
      "cell_type": "code",
      "execution_count": null,
      "id": "8516e16e",
      "metadata": {
        "id": "8516e16e"
      },
      "outputs": [],
      "source": [
        "# Import Origin and Destination shapefiles using core.shapefile\n",
        "StationPolygon1 = core.shapefile.Reader(\"input/Hex37_O.shp\")\n",
        "StationPolygon2 = core.shapefile.Reader(\"input/Hex37_D.shp\")\n"
      ]
    },
    {
      "cell_type": "code",
      "execution_count": null,
      "id": "2ed1d871",
      "metadata": {
        "id": "2ed1d871"
      },
      "outputs": [],
      "source": [
        "# Extract polygon shapes\n",
        "shapes1 = StationPolygon1.shapes()\n",
        "shapes2 = StationPolygon2.shapes()\n"
      ]
    },
    {
      "cell_type": "code",
      "execution_count": null,
      "id": "2f322daf",
      "metadata": {
        "id": "2f322daf"
      },
      "outputs": [],
      "source": [
        "# Prepare AREAS input for Queen's and Rook's contiguity\n",
        "AREAS1 = [[shape.points] for shape in shapes1]  # Ensure proper structure for AREAS\n",
        "AREAS2 = [[shape.points] for shape in shapes2]  # Ensure proper structure for AREAS\n"
      ]
    },
    {
      "cell_type": "code",
      "execution_count": null,
      "id": "7507ebf9",
      "metadata": {
        "id": "7507ebf9"
      },
      "outputs": [],
      "source": [
        "# Execute FlowLISA function\n",
        "outputStr = execFLOWLISA(AREAS1, AREAS2, F_dt1, 1, 120)\n",
        "\"\"\"\n",
        "    Execute FlowLISA to analyze spatial autocorrelation in univariate flow data\n"
      ]
    },
    {
      "cell_type": "code",
      "execution_count": null,
      "id": "b8b0c848",
      "metadata": {
        "id": "b8b0c848"
      },
      "outputs": [],
      "source": [
        "    Parameters of execFLOWLISA(AREAS1, AREAS2, FlowValue, Spatstat, NeiLvl):\n",
        "    1. AREAS1: Origin areas (list of polygons)\n",
        "    2. AREAS2: Destination areas (list of polygons)\n",
        "    3. FlowValue: Dictionary of (O, D) flow values\n",
        "    4. Spatstat:\n",
        "        1 -> Local Moran's I\n",
        "        2 -> Local Getis-Ord G\n",
        "        3 -> Local Geary's C\n",
        "    5. NeiLvl: Neighborhood level for flow connections\n",
        "        # Level=1: one of OD is the same and the other is neighbor;\n",
        "        # Level=2: both OD are neighbors, so level ==12 means a combination of the two above\n",
        "        # 18 means same D, Os are neighbors\n",
        "        # 19 means same O, Ds are neighbors\n",
        "        # adding 0 means including the situation of flows sharing the same O & D as flow i\n",
        "        # refer to getFlowNeighbors.py for more details\n"
      ]
    },
    {
      "cell_type": "code",
      "execution_count": null,
      "id": "d86b528a",
      "metadata": {
        "id": "d86b528a"
      },
      "outputs": [],
      "source": [
        "    Returns:\n",
        "    - A formatted output string containing results\n",
        "\"\"\"\n"
      ]
    },
    {
      "cell_type": "code",
      "execution_count": null,
      "id": "7bfc832d",
      "metadata": {
        "id": "7bfc832d"
      },
      "outputs": [],
      "source": [
        "# Save output to text file\n",
        "output_filename = 'result/FlowLISA_I_Fake37xLL_Nei120_0002.txt'\n",
        "with open(output_filename, 'w') as outputFile:\n",
        "    outputFile.write(outputStr)\n"
      ]
    },
    {
      "cell_type": "code",
      "execution_count": null,
      "id": "f31e8a7c",
      "metadata": {
        "id": "f31e8a7c"
      },
      "outputs": [],
      "source": [
        "print(f\"Processing complete. Results saved to {output_filename}\")\n"
      ]
    }
  ],
  "metadata": {
    "colab": {
      "provenance": []
    }
  },
  "nbformat": 4,
  "nbformat_minor": 5
}